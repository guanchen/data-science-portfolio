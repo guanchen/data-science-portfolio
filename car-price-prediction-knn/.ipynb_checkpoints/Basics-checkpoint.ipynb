{
 "cells": [
  {
   "cell_type": "markdown",
   "metadata": {
    "collapsed": true
   },
   "source": [
    "# Predicting car price using k-nearest neighbors algorithm\n",
    "\n",
    "In this project, I'll predict a car's market price using its attributes. "
   ]
  },
  {
   "cell_type": "markdown",
   "metadata": {},
   "source": [
    "## Dataset preparation"
   ]
  },
  {
   "cell_type": "code",
   "execution_count": 1,
   "metadata": {
    "collapsed": false
   },
   "outputs": [
    {
     "data": {
      "text/plain": [
       "Index(['3', '?', 'alfa-romero', 'gas', 'std', 'two', 'convertible', 'rwd',\n",
       "       'front', '88.60', '168.80', '64.10', '48.80', '2548', 'dohc', 'four',\n",
       "       '130', 'mpfi', '3.47', '2.68', '9.00', '111', '5000', '21', '27',\n",
       "       '13495'],\n",
       "      dtype='object')"
      ]
     },
     "execution_count": 1,
     "metadata": {},
     "output_type": "execute_result"
    }
   ],
   "source": [
    "import pandas as pd\n",
    "import numpy as np\n",
    "\n",
    "cars = pd.read_csv(\"imports-85.data\")\n",
    "cars.columns"
   ]
  },
  {
   "cell_type": "code",
   "execution_count": 2,
   "metadata": {
    "collapsed": false
   },
   "outputs": [
    {
     "data": {
      "text/html": [
       "<div>\n",
       "<style scoped>\n",
       "    .dataframe tbody tr th:only-of-type {\n",
       "        vertical-align: middle;\n",
       "    }\n",
       "\n",
       "    .dataframe tbody tr th {\n",
       "        vertical-align: top;\n",
       "    }\n",
       "\n",
       "    .dataframe thead th {\n",
       "        text-align: right;\n",
       "    }\n",
       "</style>\n",
       "<table border=\"1\" class=\"dataframe\">\n",
       "  <thead>\n",
       "    <tr style=\"text-align: right;\">\n",
       "      <th></th>\n",
       "      <th>3</th>\n",
       "      <th>?</th>\n",
       "      <th>alfa-romero</th>\n",
       "      <th>gas</th>\n",
       "      <th>std</th>\n",
       "      <th>two</th>\n",
       "      <th>convertible</th>\n",
       "      <th>rwd</th>\n",
       "      <th>front</th>\n",
       "      <th>88.60</th>\n",
       "      <th>...</th>\n",
       "      <th>130</th>\n",
       "      <th>mpfi</th>\n",
       "      <th>3.47</th>\n",
       "      <th>2.68</th>\n",
       "      <th>9.00</th>\n",
       "      <th>111</th>\n",
       "      <th>5000</th>\n",
       "      <th>21</th>\n",
       "      <th>27</th>\n",
       "      <th>13495</th>\n",
       "    </tr>\n",
       "  </thead>\n",
       "  <tbody>\n",
       "    <tr>\n",
       "      <th>0</th>\n",
       "      <td>3</td>\n",
       "      <td>?</td>\n",
       "      <td>alfa-romero</td>\n",
       "      <td>gas</td>\n",
       "      <td>std</td>\n",
       "      <td>two</td>\n",
       "      <td>convertible</td>\n",
       "      <td>rwd</td>\n",
       "      <td>front</td>\n",
       "      <td>88.6</td>\n",
       "      <td>...</td>\n",
       "      <td>130</td>\n",
       "      <td>mpfi</td>\n",
       "      <td>3.47</td>\n",
       "      <td>2.68</td>\n",
       "      <td>9.0</td>\n",
       "      <td>111</td>\n",
       "      <td>5000</td>\n",
       "      <td>21</td>\n",
       "      <td>27</td>\n",
       "      <td>16500</td>\n",
       "    </tr>\n",
       "    <tr>\n",
       "      <th>1</th>\n",
       "      <td>1</td>\n",
       "      <td>?</td>\n",
       "      <td>alfa-romero</td>\n",
       "      <td>gas</td>\n",
       "      <td>std</td>\n",
       "      <td>two</td>\n",
       "      <td>hatchback</td>\n",
       "      <td>rwd</td>\n",
       "      <td>front</td>\n",
       "      <td>94.5</td>\n",
       "      <td>...</td>\n",
       "      <td>152</td>\n",
       "      <td>mpfi</td>\n",
       "      <td>2.68</td>\n",
       "      <td>3.47</td>\n",
       "      <td>9.0</td>\n",
       "      <td>154</td>\n",
       "      <td>5000</td>\n",
       "      <td>19</td>\n",
       "      <td>26</td>\n",
       "      <td>16500</td>\n",
       "    </tr>\n",
       "    <tr>\n",
       "      <th>2</th>\n",
       "      <td>2</td>\n",
       "      <td>164</td>\n",
       "      <td>audi</td>\n",
       "      <td>gas</td>\n",
       "      <td>std</td>\n",
       "      <td>four</td>\n",
       "      <td>sedan</td>\n",
       "      <td>fwd</td>\n",
       "      <td>front</td>\n",
       "      <td>99.8</td>\n",
       "      <td>...</td>\n",
       "      <td>109</td>\n",
       "      <td>mpfi</td>\n",
       "      <td>3.19</td>\n",
       "      <td>3.40</td>\n",
       "      <td>10.0</td>\n",
       "      <td>102</td>\n",
       "      <td>5500</td>\n",
       "      <td>24</td>\n",
       "      <td>30</td>\n",
       "      <td>13950</td>\n",
       "    </tr>\n",
       "  </tbody>\n",
       "</table>\n",
       "<p>3 rows × 26 columns</p>\n",
       "</div>"
      ],
      "text/plain": [
       "   3    ?  alfa-romero  gas  std   two  convertible  rwd  front  88.60  ...    \\\n",
       "0  3    ?  alfa-romero  gas  std   two  convertible  rwd  front   88.6  ...     \n",
       "1  1    ?  alfa-romero  gas  std   two    hatchback  rwd  front   94.5  ...     \n",
       "2  2  164         audi  gas  std  four        sedan  fwd  front   99.8  ...     \n",
       "\n",
       "   130  mpfi  3.47  2.68  9.00  111  5000  21  27  13495  \n",
       "0  130  mpfi  3.47  2.68   9.0  111  5000  21  27  16500  \n",
       "1  152  mpfi  2.68  3.47   9.0  154  5000  19  26  16500  \n",
       "2  109  mpfi  3.19  3.40  10.0  102  5500  24  30  13950  \n",
       "\n",
       "[3 rows x 26 columns]"
      ]
     },
     "execution_count": 2,
     "metadata": {},
     "output_type": "execute_result"
    }
   ],
   "source": [
    "cars.head(3)"
   ]
  },
  {
   "cell_type": "markdown",
   "metadata": {},
   "source": [
    "From the above display of the dataset, the column names don't match the ones in the [dataset's documentation](https://archive.ics.uci.edu/ml/datasets/automobile). \n",
    "To fix this, we can add headers for each column."
   ]
  },
  {
   "cell_type": "code",
   "execution_count": 3,
   "metadata": {
    "collapsed": false
   },
   "outputs": [],
   "source": [
    "cols = ['symboling', 'normalized-losses', 'make', 'fuel-type', 'aspiration', 'num-of-doors', 'body-style', \n",
    "        'drive-wheels', 'engine-location', 'wheel-base', 'length', 'width', 'height', 'curb-weight', 'engine-type', \n",
    "        'num-of-cylinders', 'engine-size', 'fuel-system', 'bore', 'stroke', 'compression-rate', 'horsepower', 'peak-rpm', 'city-mpg', 'highway-mpg', 'price']\n",
    "cars = pd.read_csv('imports-85.data', names=cols)"
   ]
  },
  {
   "cell_type": "code",
   "execution_count": 4,
   "metadata": {
    "collapsed": true
   },
   "outputs": [],
   "source": [
    "# Select only the columns with continuous values from - https://archive.ics.uci.edu/ml/machine-learning-databases/autos/imports-85.names\n",
    "continuous_values_cols = ['normalized-losses', 'wheel-base', 'length', 'width', 'height', 'curb-weight', 'bore', 'stroke', 'compression-rate', 'horsepower', 'peak-rpm', 'city-mpg', 'highway-mpg', 'price']\n",
    "numeric_cars = cars[continuous_values_cols]"
   ]
  },
  {
   "cell_type": "markdown",
   "metadata": {},
   "source": [
    "## Data cleaning"
   ]
  },
  {
   "cell_type": "code",
   "execution_count": 5,
   "metadata": {
    "collapsed": false
   },
   "outputs": [
    {
     "data": {
      "text/plain": [
       "normalized-losses    41\n",
       "wheel-base            0\n",
       "length                0\n",
       "width                 0\n",
       "height                0\n",
       "curb-weight           0\n",
       "bore                  4\n",
       "stroke                4\n",
       "compression-rate      0\n",
       "horsepower            2\n",
       "peak-rpm              2\n",
       "city-mpg              0\n",
       "highway-mpg           0\n",
       "price                 4\n",
       "dtype: int64"
      ]
     },
     "execution_count": 5,
     "metadata": {},
     "output_type": "execute_result"
    }
   ],
   "source": [
    "# replace all of the ? values with numpy.nan\n",
    "numeric_cars = numeric_cars.replace('?', np.nan)\n",
    "\n",
    "# convert object data type with ? value before to numeric types\n",
    "numeric_cars = numeric_cars.astype('float')\n",
    "numeric_cars.isnull().sum()"
   ]
  },
  {
   "cell_type": "code",
   "execution_count": 6,
   "metadata": {
    "collapsed": false
   },
   "outputs": [
    {
     "data": {
      "text/plain": [
       "normalized-losses    37\n",
       "wheel-base            0\n",
       "length                0\n",
       "width                 0\n",
       "height                0\n",
       "curb-weight           0\n",
       "bore                  4\n",
       "stroke                4\n",
       "compression-rate      0\n",
       "horsepower            2\n",
       "peak-rpm              2\n",
       "city-mpg              0\n",
       "highway-mpg           0\n",
       "price                 0\n",
       "dtype: int64"
      ]
     },
     "execution_count": 6,
     "metadata": {},
     "output_type": "execute_result"
    }
   ],
   "source": [
    "# remove any rows from price column with missing values\n",
    "numeric_cars = numeric_cars.dropna(subset=['price'])\n",
    "\n",
    "numeric_cars.isnull().sum()"
   ]
  },
  {
   "cell_type": "code",
   "execution_count": 7,
   "metadata": {
    "collapsed": false
   },
   "outputs": [
    {
     "data": {
      "text/plain": [
       "normalized-losses    0\n",
       "wheel-base           0\n",
       "length               0\n",
       "width                0\n",
       "height               0\n",
       "curb-weight          0\n",
       "bore                 0\n",
       "stroke               0\n",
       "compression-rate     0\n",
       "horsepower           0\n",
       "peak-rpm             0\n",
       "city-mpg             0\n",
       "highway-mpg          0\n",
       "price                0\n",
       "dtype: int64"
      ]
     },
     "execution_count": 7,
     "metadata": {},
     "output_type": "execute_result"
    }
   ],
   "source": [
    "# replace missing values in other columns with column means\n",
    "numeric_cars = numeric_cars.fillna(numeric_cars.mean())\n",
    "numeric_cars.isnull().sum()"
   ]
  },
  {
   "cell_type": "code",
   "execution_count": 8,
   "metadata": {
    "collapsed": true
   },
   "outputs": [],
   "source": [
    "# normalize all columns except the price one to range from o to 1\n",
    "price_col = numeric_cars['price']\n",
    "numeric_cars = (numeric_cars - numeric_cars.min())/(numeric_cars.max() - numeric_cars.min())\n",
    "numeric_cars['price'] = price_col"
   ]
  },
  {
   "cell_type": "markdown",
   "metadata": {},
   "source": [
    "## Univariate model"
   ]
  },
  {
   "cell_type": "code",
   "execution_count": 9,
   "metadata": {
    "collapsed": false
   },
   "outputs": [],
   "source": [
    "from sklearn.neighbors import KNeighborsRegressor\n",
    "from sklearn.metrics import mean_squared_error\n",
    "\n",
    "def knn_train_test(train_col, target_col, df):\n",
    "    knn = KNeighborsRegressor()\n",
    "    np.random.seed(1)\n",
    "    \n",
    "    # Randomize the order of rows in the dataframe\n",
    "    shuffled_index = np.random.permutation(df.index)\n",
    "    df_shuffled = df.reindex(shuffled_index)\n",
    "    \n",
    "    # Divide number of rows in half and round\n",
    "    last_train_index = int(len(df_shuffled) / 2)\n",
    "    \n",
    "    # Prepare train/test datasets\n",
    "    train_data = df_shuffled.iloc[:last_train_index]\n",
    "    test_data = df_shuffled.iloc[last_train_index:]\n",
    "    \n",
    "    # Fit a KNN model using the default k value\n",
    "    knn.fit(train_data[[train_col]], train_data[target_col])\n",
    "\n",
    "    # Predict using the model\n",
    "    predictions = knn.predict(test_data[[train_col]])\n",
    "    \n",
    "    # Calculate RMSE and return that value\n",
    "    rmse = mean_squared_error(predictions, test_data[target_col]) ** (1/2)\n",
    "    return rmse\n",
    "    "
   ]
  },
  {
   "cell_type": "code",
   "execution_count": 10,
   "metadata": {
    "collapsed": false
   },
   "outputs": [
    {
     "data": {
      "text/plain": [
       "horsepower           4037.037713\n",
       "curb-weight          4401.118255\n",
       "highway-mpg          4630.026799\n",
       "width                4704.482590\n",
       "city-mpg             4766.422505\n",
       "length               5427.200961\n",
       "wheel-base           5461.553998\n",
       "compression-rate     6610.812153\n",
       "bore                 6780.627785\n",
       "normalized-losses    7330.197653\n",
       "peak-rpm             7697.459696\n",
       "stroke               8006.529545\n",
       "height               8144.441043\n",
       "dtype: float64"
      ]
     },
     "execution_count": 10,
     "metadata": {},
     "output_type": "execute_result"
    }
   ],
   "source": [
    "rmses = {}\n",
    "train_cols = numeric_cars.columns.drop('price')\n",
    "\n",
    "# For each column (minus 'price'), train a model, return RMSE value\n",
    "# and add to the dictionary 'rmses'.\n",
    "\n",
    "for col in train_cols:\n",
    "    rmse = knn_train_test(col, 'price', numeric_cars)\n",
    "    rmses[col] = rmse\n",
    "    \n",
    "# Create a Series object from the dictionary so \n",
    "# we can easily view the results, sort, etc\n",
    "rmse_results_series = pd.Series(rmses)\n",
    "rmse_results_series.sort_values()    "
   ]
  },
  {
   "cell_type": "code",
   "execution_count": 11,
   "metadata": {
    "collapsed": false
   },
   "outputs": [
    {
     "data": {
      "text/plain": [
       "{'bore': {1: 6123.205435225916,\n",
       "  3: 5714.9573015199185,\n",
       "  5: 6188.139879568731,\n",
       "  7: 6356.856998293009,\n",
       "  9: 6119.174255565797},\n",
       " 'city-mpg': {1: 5398.420993014696,\n",
       "  3: 4930.422002882984,\n",
       "  5: 4604.3677792218805,\n",
       "  7: 4975.107739923146,\n",
       "  9: 4933.107142444934},\n",
       " 'compression-rate': {1: 6181.6236075761335,\n",
       "  3: 6457.155051633504,\n",
       "  5: 6257.5267794587635,\n",
       "  7: 6042.785051649653,\n",
       "  9: 6234.5054383251645},\n",
       " 'curb-weight': {1: 4868.781696474057,\n",
       "  3: 3760.9155817701258,\n",
       "  5: 3677.9477862546996,\n",
       "  7: 3998.933648728713,\n",
       "  9: 4048.1239775133095},\n",
       " 'height': {1: 8798.297856308163,\n",
       "  3: 8195.3451353002,\n",
       "  5: 7728.272434597938,\n",
       "  7: 7762.924272297504,\n",
       "  9: 7712.497154427145},\n",
       " 'highway-mpg': {1: 5869.107992170733,\n",
       "  3: 5058.942123640182,\n",
       "  5: 4983.255677816968,\n",
       "  7: 5233.406698977677,\n",
       "  9: 5421.146299894971},\n",
       " 'horsepower': {1: 5556.08197214441,\n",
       "  3: 4149.219650942955,\n",
       "  5: 4145.019289042532,\n",
       "  7: 4227.651047505056,\n",
       "  9: 4545.198086795477},\n",
       " 'length': {1: 5564.241438163716,\n",
       "  3: 6059.776177849521,\n",
       "  5: 5646.322047331184,\n",
       "  7: 5646.482258480265,\n",
       "  9: 5674.152892367297},\n",
       " 'normalized-losses': {1: 10527.192176397839,\n",
       "  3: 8936.39918716388,\n",
       "  5: 7970.59783724962,\n",
       "  7: 8111.3964659237,\n",
       "  9: 8225.91984478037},\n",
       " 'peak-rpm': {1: 5326.243298354603,\n",
       "  3: 5729.259200524853,\n",
       "  5: 6540.55143813207,\n",
       "  7: 6795.557607021038,\n",
       "  9: 6960.562001974209},\n",
       " 'stroke': {1: 6433.327887102468,\n",
       "  3: 6860.840929720371,\n",
       "  5: 5914.5924180189395,\n",
       "  7: 6047.769527689736,\n",
       "  9: 6185.125464559767},\n",
       " 'wheel-base': {1: 7295.398954881843,\n",
       "  3: 6097.530832749076,\n",
       "  5: 5476.407598286879,\n",
       "  7: 5465.172374116282,\n",
       "  9: 5566.53968252803},\n",
       " 'width': {1: 4149.640616670888,\n",
       "  3: 4543.217030805253,\n",
       "  5: 4905.61211695138,\n",
       "  7: 5095.646080168663,\n",
       "  9: 5249.671584095807}}"
      ]
     },
     "execution_count": 11,
     "metadata": {},
     "output_type": "execute_result"
    }
   ],
   "source": [
    "def knn_train_test(train_col, target_col, df):\n",
    "    k_rmses = {}\n",
    "    # Randomize the order of rows in the dataframe\n",
    "    shuffled_index = np.random.permutation(df.index)\n",
    "    df_shuffled = df.reindex(shuffled_index)\n",
    "    \n",
    "    # Divide number of rows in half and round\n",
    "    last_train_index = int(len(df_shuffled) / 2)\n",
    "    \n",
    "    # Prepare train/test datasets\n",
    "    train_data = df_shuffled.iloc[:last_train_index]\n",
    "    test_data = df_shuffled.iloc[last_train_index:]\n",
    "    \n",
    "    k_values = [1, 3, 5, 7, 9]\n",
    "    for k in k_values:\n",
    "        knn = KNeighborsRegressor(n_neighbors=k)\n",
    "        # Fit a KNN model using the default k value\n",
    "        knn.fit(train_data[[train_col]], train_data[target_col])\n",
    "\n",
    "        # Predict using the model\n",
    "        predictions = knn.predict(test_data[[train_col]])\n",
    "    \n",
    "        # Calculate RMSE and return that value\n",
    "        rmse = mean_squared_error(predictions, test_data[target_col]) ** (1/2)\n",
    "        k_rmses[k] = rmse\n",
    "    return k_rmses\n",
    "\n",
    "k_rmse_results = {}\n",
    "\n",
    "# For each column (minus `price`), train a model, return RMSE value\n",
    "# and add to the dictionary `rmse_results`.\n",
    "train_cols = numeric_cars.columns.drop('price')\n",
    "for col in train_cols:\n",
    "    rmse_val = knn_train_test(col, 'price', numeric_cars)\n",
    "    k_rmse_results[col] = rmse_val\n",
    "\n",
    "k_rmse_results"
   ]
  },
  {
   "cell_type": "code",
   "execution_count": 12,
   "metadata": {
    "collapsed": false
   },
   "outputs": [
    {
     "data": {
      "image/png": "[encoded data removed]",
      "text/plain": [
       "<matplotlib.figure.Figure at 0x7f51529c5f60>"
      ]
     },
     "metadata": {},
     "output_type": "display_data"
    }
   ],
   "source": [
    "import matplotlib.pyplot as plt\n",
    "%matplotlib inline\n",
    "\n",
    "for k,v in k_rmse_results.items():\n",
    "    x = list(v.keys())\n",
    "    y = list(v.values())\n",
    "    \n",
    "    plt.scatter(x,y)\n",
    "    plt.xlabel('k value')\n",
    "    plt.ylabel('RMSE')"
   ]
  },
  {
   "cell_type": "code",
   "execution_count": 13,
   "metadata": {
    "collapsed": false
   },
   "outputs": [
    {
     "data": {
      "text/plain": [
       "{'five best features': {5: 3341.6024539726504},\n",
       " 'four best features': {5: 3280.3807311630976},\n",
       " 'six best features': {5: 3628.261188214127},\n",
       " 'three best features': {5: 3305.9401397969677},\n",
       " 'two best features': {5: 3589.3132622073304}}"
      ]
     },
     "execution_count": 13,
     "metadata": {},
     "output_type": "execute_result"
    }
   ],
   "source": [
    "def knn_train_test(train_cols, target_col, df):\n",
    "    np.random.seed(1)\n",
    "    \n",
    "    # Randomize order of rows in data frame.\n",
    "    shuffled_index = np.random.permutation(df.index)\n",
    "    rand_df = df.reindex(shuffled_index)\n",
    "    \n",
    "    # Divide number of rows in half and round.\n",
    "    last_train_row = int(len(rand_df) / 2)\n",
    "    \n",
    "    # Select the first half and set as training set.\n",
    "    # Select the second half and set as test set.\n",
    "    train_df = rand_df.iloc[0:last_train_row]\n",
    "    test_df = rand_df.iloc[last_train_row:]\n",
    "    \n",
    "    k_values = [5]\n",
    "    k_rmses = {}\n",
    "    for k in k_values:\n",
    "        # Fit model using k nearest neighbors.\n",
    "        knn = KNeighborsRegressor(n_neighbors=k)\n",
    "        knn.fit(train_df[train_cols], train_df[target_col])\n",
    "\n",
    "        # Make predictions using model.\n",
    "        predicted_labels = knn.predict(test_df[train_cols])\n",
    "\n",
    "        # Calculate and return RMSE.\n",
    "        mse = mean_squared_error(test_df[target_col], predicted_labels)\n",
    "        rmse = np.sqrt(mse)\n",
    "        \n",
    "        k_rmses[k] = rmse\n",
    "    return k_rmses\n",
    "\n",
    "k_rmse_results = {}\n",
    "\n",
    "two_best_features = ['horsepower', 'width']\n",
    "rmse_val = knn_train_test(two_best_features, 'price', numeric_cars)\n",
    "k_rmse_results[\"two best features\"] = rmse_val\n",
    "\n",
    "three_best_features = ['horsepower', 'width', 'curb-weight']\n",
    "rmse_val = knn_train_test(three_best_features, 'price', numeric_cars)\n",
    "k_rmse_results[\"three best features\"] = rmse_val\n",
    "\n",
    "four_best_features = ['horsepower', 'width', 'curb-weight', 'city-mpg']\n",
    "rmse_val = knn_train_test(four_best_features, 'price', numeric_cars)\n",
    "k_rmse_results[\"four best features\"] = rmse_val\n",
    "\n",
    "five_best_features = ['horsepower', 'width', 'curb-weight' , 'city-mpg' , 'highway-mpg']\n",
    "rmse_val = knn_train_test(five_best_features, 'price', numeric_cars)\n",
    "k_rmse_results[\"five best features\"] = rmse_val\n",
    "\n",
    "six_best_features = ['horsepower', 'width', 'curb-weight' , 'city-mpg' , 'highway-mpg', 'length']\n",
    "rmse_val = knn_train_test(six_best_features, 'price', numeric_cars)\n",
    "k_rmse_results[\"six best features\"] = rmse_val\n",
    "\n",
    "k_rmse_results"
   ]
  },
  {
   "cell_type": "markdown",
   "metadata": {},
   "source": [
    "## Multivariate model"
   ]
  },
  {
   "cell_type": "code",
   "execution_count": 14,
   "metadata": {
    "collapsed": false
   },
   "outputs": [
    {
     "data": {
      "text/plain": [
       "{'five best features': {1: 2530.0554077602005,\n",
       "  2: 2897.1757974767684,\n",
       "  3: 3183.4597426217424,\n",
       "  4: 3168.0230415758415,\n",
       "  5: 3341.6024539726504,\n",
       "  6: 3537.520542998191,\n",
       "  7: 3817.290452118825,\n",
       "  8: 4004.414529685573,\n",
       "  9: 3992.3186041830318,\n",
       "  10: 4138.728787853335,\n",
       "  11: 4342.052852829098,\n",
       "  12: 4416.145381031136,\n",
       "  13: 4493.8798141857205,\n",
       "  14: 4463.501601554571,\n",
       "  15: 4474.480783207805,\n",
       "  16: 4553.5595362768345,\n",
       "  17: 4597.001081375769,\n",
       "  18: 4655.283442648355,\n",
       "  19: 4687.900893982822,\n",
       "  20: 4712.022985543165,\n",
       "  21: 4755.856625823773,\n",
       "  22: 4788.162720030673,\n",
       "  23: 4806.923381965054,\n",
       "  24: 4879.983352195467},\n",
       " 'four best features': {1: 2516.589279950226,\n",
       "  2: 2811.1727257604443,\n",
       "  3: 3013.3615157930335,\n",
       "  4: 3126.269482641261,\n",
       "  5: 3280.3807311630976,\n",
       "  6: 3479.5099401018138,\n",
       "  7: 3781.5612742414464,\n",
       "  8: 3988.8669577450623,\n",
       "  9: 4024.998621362245,\n",
       "  10: 4042.247226187899,\n",
       "  11: 4230.335248684068,\n",
       "  12: 4354.008675154061,\n",
       "  13: 4461.626664877788,\n",
       "  14: 4468.029845088927,\n",
       "  15: 4444.164407677133,\n",
       "  16: 4492.069868571789,\n",
       "  17: 4597.262222692034,\n",
       "  18: 4615.446316768325,\n",
       "  19: 4692.5688728042505,\n",
       "  20: 4727.815985112382,\n",
       "  21: 4738.233067652869,\n",
       "  22: 4778.176687231466,\n",
       "  23: 4811.556798910073,\n",
       "  24: 4846.548529789929},\n",
       " 'three best features': {1: 3013.0109985241875,\n",
       "  2: 2813.285969825997,\n",
       "  3: 3171.585284478674,\n",
       "  4: 3182.3137417981943,\n",
       "  5: 3305.9401397969677,\n",
       "  6: 3522.506848900376,\n",
       "  7: 3774.3772094554106,\n",
       "  8: 3978.969124021116,\n",
       "  9: 3992.923680588881,\n",
       "  10: 4076.2381473803043,\n",
       "  11: 4156.388331131807,\n",
       "  12: 4201.10713385948,\n",
       "  13: 4303.62676861325,\n",
       "  14: 4359.693296989702,\n",
       "  15: 4371.771103372868,\n",
       "  16: 4394.4846551644205,\n",
       "  17: 4510.399710057406,\n",
       "  18: 4584.310961865486,\n",
       "  19: 4636.62620477063,\n",
       "  20: 4664.465847866811,\n",
       "  21: 4724.096637428273,\n",
       "  22: 4752.535484102914,\n",
       "  23: 4808.703310452101,\n",
       "  24: 4858.9452710176065}}"
      ]
     },
     "execution_count": 14,
     "metadata": {},
     "output_type": "execute_result"
    }
   ],
   "source": [
    "def knn_train_test(train_cols, target_col, df):\n",
    "    np.random.seed(1)\n",
    "    \n",
    "    # Randomize order of rows in data frame.\n",
    "    shuffled_index = np.random.permutation(df.index)\n",
    "    rand_df = df.reindex(shuffled_index)\n",
    "\n",
    "    # Divide number of rows in half and round.\n",
    "    last_train_row = int(len(rand_df) / 2)\n",
    "    \n",
    "    # Select the first half and set as training set.\n",
    "    # Select the second half and set as test set.\n",
    "    train_df = rand_df.iloc[0:last_train_row]\n",
    "    test_df = rand_df.iloc[last_train_row:]\n",
    "    \n",
    "    k_values = [i for i in range(1, 25)]\n",
    "    k_rmses = {}\n",
    "    \n",
    "    for k in k_values:\n",
    "        # Fit model using k nearest neighbors.\n",
    "        knn = KNeighborsRegressor(n_neighbors=k)\n",
    "        knn.fit(train_df[train_cols], train_df[target_col])\n",
    "\n",
    "        # Make predictions using model.\n",
    "        predicted_labels = knn.predict(test_df[train_cols])\n",
    "\n",
    "        # Calculate and return RMSE.\n",
    "        mse = mean_squared_error(test_df[target_col], predicted_labels)\n",
    "        rmse = np.sqrt(mse)\n",
    "        \n",
    "        k_rmses[k] = rmse\n",
    "    return k_rmses\n",
    "\n",
    "k_rmse_results = {}\n",
    "\n",
    "three_best_features = ['horsepower', 'width', 'curb-weight']\n",
    "rmse_val = knn_train_test(three_best_features, 'price', numeric_cars)\n",
    "k_rmse_results[\"three best features\"] = rmse_val\n",
    "\n",
    "four_best_features = ['horsepower', 'width', 'curb-weight', 'city-mpg']\n",
    "rmse_val = knn_train_test(four_best_features, 'price', numeric_cars)\n",
    "k_rmse_results[\"four best features\"] = rmse_val\n",
    "\n",
    "five_best_features = ['horsepower', 'width', 'curb-weight' , 'city-mpg' , 'highway-mpg']\n",
    "rmse_val = knn_train_test(five_best_features, 'price', numeric_cars)\n",
    "k_rmse_results[\"five best features\"] = rmse_val\n",
    "\n",
    "k_rmse_results"
   ]
  },
  {
   "cell_type": "code",
   "execution_count": 15,
   "metadata": {
    "collapsed": false
   },
   "outputs": [
    {
     "data": {
      "image/png": "[encoded data removed]",
      "text/plain": [
       "<matplotlib.figure.Figure at 0x7f514be20cf8>"
      ]
     },
     "metadata": {},
     "output_type": "display_data"
    }
   ],
   "source": [
    "for k, v in k_rmse_results.items():\n",
    "    x = list(v.keys())\n",
    "    y = list(v.values())\n",
    "    \n",
    "    plt.plot(x, y)\n",
    "    plt.xlabel('k value')\n",
    "    plt.ylabel('RMSE')\n",
    "    "
   ]
  },
  {
   "cell_type": "markdown",
   "metadata": {},
   "source": [
    "## Next steps:\n",
    "* Modify the knn_train_test() function to use k-fold cross validation instead of test/train validation\n",
    "* Modify the knn_train_test() function to perform the data cleaning as well"
   ]
  },
  {
   "cell_type": "code",
   "execution_count": null,
   "metadata": {
    "collapsed": true
   },
   "outputs": [],
   "source": []
  }
 ],
 "metadata": {
  "kernelspec": {
   "display_name": "Python 3",
   "language": "python",
   "name": "python3"
  },
  "language_info": {
   "codemirror_mode": {
    "name": "ipython",
    "version": 3
   },
   "file_extension": ".py",
   "mimetype": "text/x-python",
   "name": "python",
   "nbconvert_exporter": "python",
   "pygments_lexer": "ipython3",
   "version": "3.4.3"
  }
 },
 "nbformat": 4,
 "nbformat_minor": 2
}
